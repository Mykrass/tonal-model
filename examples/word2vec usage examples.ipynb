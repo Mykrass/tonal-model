{
 "cells": [
  {
   "cell_type": "code",
   "execution_count": 2,
   "metadata": {
    "collapsed": false
   },
   "outputs": [],
   "source": [
    "import warnings\n",
    "warnings.filterwarnings('ignore')\n",
    "\n",
    "import sys\n",
    "import os\n",
    "import numpy as np\n",
    "from gensim.models import Word2Vec\n",
    "\n",
    "data_folder = os.path.join(os.getcwd(), '../../data/')\n",
    "result_folder = data_folder + 'result/'"
   ]
  },
  {
   "cell_type": "markdown",
   "metadata": {
    "collapsed": false
   },
   "source": [
    "#### Завантаження моделі. \n",
    "Займає 2-3 хвилини."
   ]
  },
  {
   "cell_type": "code",
   "execution_count": 3,
   "metadata": {
    "collapsed": false
   },
   "outputs": [
    {
     "name": "stdout",
     "output_type": "stream",
     "text": [
      "Wall time: 2min 30s\n"
     ]
    }
   ],
   "source": [
    "%%time\n",
    "model = Word2Vec.load_word2vec_format(result_folder + 'word2vec', binary=False)\n",
    "model.init_sims(replace=True)"
   ]
  },
  {
   "cell_type": "markdown",
   "metadata": {},
   "source": [
    "### Класика: \"Король\" - \"Чоловік\" + \"Жінка\" = ?"
   ]
  },
  {
   "cell_type": "code",
   "execution_count": 4,
   "metadata": {
    "collapsed": false
   },
   "outputs": [
    {
     "data": {
      "text/plain": [
       "[('королева', 0.6586748361587524)]"
      ]
     },
     "execution_count": 4,
     "metadata": {},
     "output_type": "execute_result"
    }
   ],
   "source": [
    "model.most_similar(positive=['король', 'жінка'], negative=['чоловік'], topn=1)"
   ]
  },
  {
   "cell_type": "markdown",
   "metadata": {},
   "source": [
    "### \"Париж\" - \"Франція\" + \"Україна\" = ?\n",
    "Якщо з Парижу забрати Францію і додати Україну. Або іншими словами, знаходимо вектор переходу від держави до столиці і додаємо його до потрібної держави"
   ]
  },
  {
   "cell_type": "code",
   "execution_count": 5,
   "metadata": {
    "collapsed": false
   },
   "outputs": [
    {
     "data": {
      "text/plain": [
       "[('київ', 0.555548369884491)]"
      ]
     },
     "execution_count": 5,
     "metadata": {},
     "output_type": "execute_result"
    }
   ],
   "source": [
    "model.most_similar(positive=['париж', 'україна'], negative=['франція'], topn=1)"
   ]
  },
  {
   "cell_type": "code",
   "execution_count": 6,
   "metadata": {
    "collapsed": false
   },
   "outputs": [
    {
     "data": {
      "text/plain": [
       "[('сполучених', 0.6039266586303711),\n",
       " ('буш', 0.5893256068229675),\n",
       " ('обама', 0.5754402279853821),\n",
       " ('штатів', 0.5719932913780212),\n",
       " ('барак', 0.5545384883880615)]"
      ]
     },
     "execution_count": 6,
     "metadata": {},
     "output_type": "execute_result"
    }
   ],
   "source": [
    "model.most_similar(positive=['ющенко', 'сша'], negative=['україна'], topn=5)"
   ]
  },
  {
   "cell_type": "markdown",
   "metadata": {},
   "source": [
    "### Пошук найближчих за значенням слів"
   ]
  },
  {
   "cell_type": "code",
   "execution_count": 7,
   "metadata": {
    "collapsed": false
   },
   "outputs": [
    {
     "data": {
      "text/plain": [
       "[('хлопець', 0.7193020582199097),\n",
       " ('молодик', 0.6740586161613464),\n",
       " ('юнак', 0.6462587118148804),\n",
       " ('хлопчина', 0.6355247497558594),\n",
       " ('односелець', 0.6325840353965759)]"
      ]
     },
     "execution_count": 7,
     "metadata": {},
     "output_type": "execute_result"
    }
   ],
   "source": [
    "model.most_similar(positive=['чоловік'], topn=5)"
   ]
  },
  {
   "cell_type": "code",
   "execution_count": 8,
   "metadata": {
    "collapsed": false
   },
   "outputs": [
    {
     "data": {
      "text/plain": [
       "[('дівчина', 0.8387635946273804),\n",
       " ('дівчинка', 0.7695997953414917),\n",
       " ('людина', 0.7262020111083984),\n",
       " ('пенсіонерка', 0.723316490650177),\n",
       " ('дитина', 0.7158530950546265)]"
      ]
     },
     "execution_count": 8,
     "metadata": {},
     "output_type": "execute_result"
    }
   ],
   "source": [
    "model.most_similar(positive=['жінка'], topn=5)"
   ]
  },
  {
   "cell_type": "markdown",
   "metadata": {
    "collapsed": true
   },
   "source": [
    "### Ще кілька прикладів\n",
    "\"Стрункий\" відноситься до \"стрункіший\" як \"бідний\" до \"?\""
   ]
  },
  {
   "cell_type": "code",
   "execution_count": 19,
   "metadata": {
    "collapsed": false
   },
   "outputs": [
    {
     "data": {
      "text/plain": [
       "[('бідніший', 0.5530775785446167),\n",
       " ('зліший', 0.5398036241531372),\n",
       " ('робучий', 0.5387618541717529)]"
      ]
     },
     "execution_count": 19,
     "metadata": {},
     "output_type": "execute_result"
    }
   ],
   "source": [
    "model.most_similar(positive=['щасливіший', 'бідний'], negative=['щасливий'], topn=3)"
   ]
  },
  {
   "cell_type": "markdown",
   "metadata": {},
   "source": [
    "Відношення теперішнього часу до минулого"
   ]
  },
  {
   "cell_type": "code",
   "execution_count": 20,
   "metadata": {
    "collapsed": false
   },
   "outputs": [
    {
     "data": {
      "text/plain": [
       "[('співав', 0.7110381126403809),\n",
       " ('танцював', 0.6071131229400635),\n",
       " ('наспівував', 0.5819215178489685)]"
      ]
     },
     "execution_count": 20,
     "metadata": {},
     "output_type": "execute_result"
    }
   ],
   "source": [
    "model.most_similar(positive=['бігав', 'співати'], negative=['бігти'], topn=3)"
   ]
  },
  {
   "cell_type": "markdown",
   "metadata": {},
   "source": [
    "Відношення країни до національної валюти"
   ]
  },
  {
   "cell_type": "code",
   "execution_count": 23,
   "metadata": {
    "collapsed": false
   },
   "outputs": [
    {
     "data": {
      "text/plain": [
       "[('валюта', 0.572724461555481),\n",
       " ('євровалюта', 0.5442174673080444),\n",
       " ('долар', 0.5256495475769043)]"
      ]
     },
     "execution_count": 23,
     "metadata": {},
     "output_type": "execute_result"
    }
   ],
   "source": [
    "model.most_similar(positive=['гривня', 'європа'], negative=['україна'], topn=3)"
   ]
  },
  {
   "cell_type": "markdown",
   "metadata": {},
   "source": [
    "Однина до множини"
   ]
  },
  {
   "cell_type": "code",
   "execution_count": 32,
   "metadata": {
    "collapsed": false
   },
   "outputs": [
    {
     "data": {
      "text/plain": [
       "[('птахи', 0.4623814821243286),\n",
       " ('ширяв', 0.427895724773407),\n",
       " ('фазан', 0.42269349098205566)]"
      ]
     },
     "execution_count": 32,
     "metadata": {},
     "output_type": "execute_result"
    }
   ],
   "source": [
    "model.most_similar(positive=['слова', 'птах'], negative=['слово'], topn=3)"
   ]
  }
 ],
 "metadata": {
  "kernelspec": {
   "display_name": "Python 2",
   "language": "python",
   "name": "python2"
  },
  "language_info": {
   "codemirror_mode": {
    "name": "ipython",
    "version": 2
   },
   "file_extension": ".py",
   "mimetype": "text/x-python",
   "name": "python",
   "nbconvert_exporter": "python",
   "pygments_lexer": "ipython2",
   "version": "2.7.13"
  }
 },
 "nbformat": 4,
 "nbformat_minor": 0
}
